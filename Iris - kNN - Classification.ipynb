{
 "cells": [
  {
   "cell_type": "code",
   "execution_count": 1,
   "metadata": {},
   "outputs": [
    {
     "name": "stdout",
     "output_type": "stream",
     "text": [
      "   sepal_length_in_cm  sepal_width_in_cm  petal_length_in_cm  \\\n",
      "0                 5.1                3.5                 1.4   \n",
      "1                 4.9                3.0                 1.4   \n",
      "2                 4.7                3.2                 1.3   \n",
      "3                 4.6                3.1                 1.5   \n",
      "4                 5.0                3.6                 1.4   \n",
      "\n",
      "   petal_width_in_cm    iris_type  \n",
      "0                0.2  Iris-setosa  \n",
      "1                0.2  Iris-setosa  \n",
      "2                0.2  Iris-setosa  \n",
      "3                0.2  Iris-setosa  \n",
      "4                0.2  Iris-setosa  \n"
     ]
    }
   ],
   "source": [
    "import pandas as pd\n",
    "import numpy as np\n",
    "path = '/home/antoni/Documents/Sample Data/Iris Data/bezdekIris.data.csv'\n",
    "iris_data = pd.read_csv(path)\n",
    "print(iris_data.head())"
   ]
  },
  {
   "cell_type": "code",
   "execution_count": 2,
   "metadata": {},
   "outputs": [
    {
     "data": {
      "text/plain": [
       "Iris-versicolor    50\n",
       "Iris-virginica     50\n",
       "Iris-setosa        50\n",
       "Name: iris_type, dtype: int64"
      ]
     },
     "execution_count": 2,
     "metadata": {},
     "output_type": "execute_result"
    }
   ],
   "source": [
    "iris_data['iris_type'].value_counts()"
   ]
  },
  {
   "cell_type": "markdown",
   "metadata": {},
   "source": [
    "#### We need to one-hot-encodoe the iris types. We will use the pandas .get_dummies(). Sicne there is only three categories. What would be the differenc between doing this and label encoding? "
   ]
  },
  {
   "cell_type": "code",
   "execution_count": 3,
   "metadata": {},
   "outputs": [
    {
     "name": "stdout",
     "output_type": "stream",
     "text": [
      "Index(['sepal_length_in_cm', 'sepal_width_in_cm', 'petal_length_in_cm',\n",
      "       'petal_width_in_cm', 'type_Iris-setosa', 'type_Iris-setosa',\n",
      "       'type_Iris-setosa', 'type_Iris-setosa', 'type_Iris-setosa',\n",
      "       'type_Iris-setosa',\n",
      "       ...\n",
      "       'type_Iris-virginica', 'type_Iris-virginica', 'type_Iris-virginica',\n",
      "       'type_Iris-virginica', 'type_Iris-virginica', 'type_Iris-virginica',\n",
      "       'type_Iris-virginica', 'type_Iris-virginica', 'type_Iris-virginica',\n",
      "       'type_Iris-virginica'],\n",
      "      dtype='object', length=154)\n"
     ]
    }
   ],
   "source": [
    "iris_data_one_hot = pd.get_dummies(iris_data, columns='iris_type', prefix='type')\n",
    "print(iris_data_one_hot.columns)"
   ]
  },
  {
   "cell_type": "markdown",
   "metadata": {},
   "source": [
    "#### Actually instead on one hot encoding we'll use label encoding, to keep the dimensionality lower."
   ]
  },
  {
   "cell_type": "code",
   "execution_count": 4,
   "metadata": {},
   "outputs": [
    {
     "name": "stdout",
     "output_type": "stream",
     "text": [
      "   sepal_length_in_cm  sepal_width_in_cm  petal_length_in_cm  \\\n",
      "0                 5.1                3.5                 1.4   \n",
      "1                 4.9                3.0                 1.4   \n",
      "2                 4.7                3.2                 1.3   \n",
      "3                 4.6                3.1                 1.5   \n",
      "4                 5.0                3.6                 1.4   \n",
      "\n",
      "   petal_width_in_cm    iris_type  type_code  \n",
      "0                0.2  Iris-setosa          0  \n",
      "1                0.2  Iris-setosa          0  \n",
      "2                0.2  Iris-setosa          0  \n",
      "3                0.2  Iris-setosa          0  \n",
      "4                0.2  Iris-setosa          0  \n"
     ]
    }
   ],
   "source": [
    "from sklearn.preprocessing import LabelEncoder\n",
    "lb = LabelEncoder()\n",
    "\n",
    "iris_data['type_code'] = lb.fit_transform(iris_data['iris_type'])\n",
    "print(iris_data.head())\n",
    " "
   ]
  },
  {
   "cell_type": "code",
   "execution_count": 5,
   "metadata": {},
   "outputs": [
    {
     "name": "stdout",
     "output_type": "stream",
     "text": [
      "['Iris-setosa' 'Iris-versicolor' 'Iris-virginica']\n",
      "[0 1 2]\n"
     ]
    }
   ],
   "source": [
    "print(iris_data.iris_type.unique())\n",
    "print(iris_data.type_code.unique())"
   ]
  },
  {
   "cell_type": "code",
   "execution_count": 6,
   "metadata": {},
   "outputs": [],
   "source": [
    "from sklearn.model_selection import train_test_split\n",
    "X = iris_data.drop(columns=['iris_type' , 'type_code'])\n",
    "y = iris_data['type_code']\n",
    "TX, VX, Ty, Vy = train_test_split(X, y, random_state = 0)"
   ]
  },
  {
   "cell_type": "code",
   "execution_count": 7,
   "metadata": {},
   "outputs": [
    {
     "data": {
      "text/plain": [
       "KNeighborsClassifier(algorithm='auto', leaf_size=30, metric='minkowski',\n",
       "           metric_params=None, n_jobs=1, n_neighbors=5, p=2,\n",
       "           weights='uniform')"
      ]
     },
     "execution_count": 7,
     "metadata": {},
     "output_type": "execute_result"
    }
   ],
   "source": [
    "from sklearn.neighbors import KNeighborsClassifier\n",
    "knc = KNeighborsClassifier()\n",
    "knc.fit(TX, Ty)"
   ]
  },
  {
   "cell_type": "code",
   "execution_count": 8,
   "metadata": {},
   "outputs": [],
   "source": [
    "pred_y = knc.predict(VX)"
   ]
  },
  {
   "cell_type": "code",
   "execution_count": 9,
   "metadata": {},
   "outputs": [
    {
     "name": "stdout",
     "output_type": "stream",
     "text": [
      "0.02631578947368421\n"
     ]
    }
   ],
   "source": [
    "from sklearn.metrics import mean_absolute_error\n",
    "print(mean_absolute_error(Vy, pred_y))"
   ]
  },
  {
   "cell_type": "markdown",
   "metadata": {},
   "source": [
    "### Just for visualisation purposes I convert the data into 3 feature data, by converting l and w into area.\n"
   ]
  },
  {
   "cell_type": "code",
   "execution_count": 10,
   "metadata": {},
   "outputs": [],
   "source": [
    "df_visualisation = iris_data.copy()\n",
    "for i in df_visualisation:\n",
    "    df_visualisation['sepal_area'] =  df_visualisation['sepal_length_in_cm'] * df_visualisation['sepal_width_in_cm']\n",
    "    df_visualisation['petal_area'] =  df_visualisation['petal_length_in_cm'] * df_visualisation['petal_width_in_cm']\n"
   ]
  },
  {
   "cell_type": "code",
   "execution_count": 11,
   "metadata": {},
   "outputs": [
    {
     "name": "stdout",
     "output_type": "stream",
     "text": [
      "     iris_type  type_code  sepal_area  petal_area\n",
      "0  Iris-setosa          0       17.85        0.28\n",
      "1  Iris-setosa          0       14.70        0.28\n",
      "2  Iris-setosa          0       15.04        0.26\n",
      "3  Iris-setosa          0       14.26        0.30\n",
      "4  Iris-setosa          0       18.00        0.28\n"
     ]
    }
   ],
   "source": [
    "df_visualisation = df_visualisation.drop(columns=['sepal_length_in_cm', 'sepal_width_in_cm', 'petal_length_in_cm','petal_width_in_cm'])\n",
    "print(df_visualisation.head())"
   ]
  },
  {
   "cell_type": "code",
   "execution_count": 12,
   "metadata": {},
   "outputs": [],
   "source": [
    "X1 = df_visualisation.drop(columns=['iris_type' , 'type_code'])\n",
    "y1 = df_visualisation['type_code']\n",
    "TX1, VX1, Ty1, Vy1 = train_test_split(X1, y1, random_state = 0)"
   ]
  },
  {
   "cell_type": "code",
   "execution_count": 13,
   "metadata": {},
   "outputs": [
    {
     "data": {
      "text/plain": [
       "array([2, 1, 0, 2, 0, 2, 0, 1, 1, 1, 2, 1, 1, 1, 1, 0, 1, 1, 0, 0, 2, 1,\n",
       "       0, 0, 2, 0, 0, 1, 1, 0, 2, 1, 0, 2, 2, 1, 0, 2])"
      ]
     },
     "execution_count": 13,
     "metadata": {},
     "output_type": "execute_result"
    }
   ],
   "source": [
    "knc1 = KNeighborsClassifier()\n",
    "knc1.fit(TX1, Ty1)\n"
   ]
  },
  {
   "cell_type": "markdown",
   "metadata": {},
   "source": [
    "### Experimenting with different k-Values\n",
    "Here I will be plotting different k-values alongside the MAE"
   ]
  },
  {
   "cell_type": "code",
   "execution_count": 24,
   "metadata": {},
   "outputs": [],
   "source": [
    "def get_mae(knn):\n",
    "    knn.fit(TX1, Ty1)\n",
    "    pred = knn.predict(VX1)\n",
    "    return mean_absolute_error(Vy1, pred)"
   ]
  },
  {
   "cell_type": "code",
   "execution_count": 14,
   "metadata": {},
   "outputs": [],
   "source": [
    "from mlxtend.plotting import plot_decision_regions"
   ]
  },
  {
   "cell_type": "code",
   "execution_count": 26,
   "metadata": {},
   "outputs": [
    {
     "name": "stdout",
     "output_type": "stream",
     "text": [
      "0.02631578947368421\n"
     ]
    },
    {
     "name": "stderr",
     "output_type": "stream",
     "text": [
      "/home/antoni/anaconda3/lib/python3.6/site-packages/ipykernel_launcher.py:2: FutureWarning: Method .as_matrix will be removed in a future version. Use .values instead.\n",
      "  \n"
     ]
    },
    {
     "data": {
      "text/plain": [
       "<matplotlib.axes._subplots.AxesSubplot at 0x7f74ff35ad68>"
      ]
     },
     "execution_count": 26,
     "metadata": {},
     "output_type": "execute_result"
    },
    {
     "data": {
      "image/png": "[encoded data removed]",
      "text/plain": [
       "<Figure size 432x288 with 1 Axes>"
      ]
     },
     "metadata": {},
     "output_type": "display_data"
    }
   ],
   "source": [
    "print(get_mae(knc1))\n",
    "plot_decision_regions(X1.as_matrix(), y1.as_matrix(), knc1)"
   ]
  },
  {
   "cell_type": "code",
   "execution_count": 25,
   "metadata": {},
   "outputs": [
    {
     "name": "stdout",
     "output_type": "stream",
     "text": [
      "0.02631578947368421\n"
     ]
    },
    {
     "name": "stderr",
     "output_type": "stream",
     "text": [
      "/home/antoni/anaconda3/lib/python3.6/site-packages/ipykernel_launcher.py:4: FutureWarning: Method .as_matrix will be removed in a future version. Use .values instead.\n",
      "  after removing the cwd from sys.path.\n"
     ]
    },
    {
     "data": {
      "text/plain": [
       "<matplotlib.axes._subplots.AxesSubplot at 0x7f74ff3dc748>"
      ]
     },
     "execution_count": 25,
     "metadata": {},
     "output_type": "execute_result"
    },
    {
     "data": {
      "image/png": "[encoded data removed]",
      "text/plain": [
       "<Figure size 432x288 with 1 Axes>"
      ]
     },
     "metadata": {},
     "output_type": "display_data"
    }
   ],
   "source": [
    "knc2 = KNeighborsClassifier(n_neighbors=1)\n",
    "knc2.fit(TX1, Ty1)\n",
    "print(get_mae(knc2))\n",
    "plot_decision_regions(X1.as_matrix(), y1.as_matrix(), knc2)"
   ]
  },
  {
   "cell_type": "code",
   "execution_count": 27,
   "metadata": {},
   "outputs": [
    {
     "name": "stdout",
     "output_type": "stream",
     "text": [
      "0.02631578947368421\n"
     ]
    },
    {
     "name": "stderr",
     "output_type": "stream",
     "text": [
      "/home/antoni/anaconda3/lib/python3.6/site-packages/ipykernel_launcher.py:4: FutureWarning: Method .as_matrix will be removed in a future version. Use .values instead.\n",
      "  after removing the cwd from sys.path.\n"
     ]
    },
    {
     "data": {
      "text/plain": [
       "<matplotlib.axes._subplots.AxesSubplot at 0x7f74ff2cc0f0>"
      ]
     },
     "execution_count": 27,
     "metadata": {},
     "output_type": "execute_result"
    },
    {
     "data": {
      "image/png": "[encoded data removed]",
      "text/plain": [
       "<Figure size 432x288 with 1 Axes>"
      ]
     },
     "metadata": {},
     "output_type": "display_data"
    }
   ],
   "source": [
    "knc3 = KNeighborsClassifier(n_neighbors=20)\n",
    "print(get_mae(knc3))\n",
    "knc3.fit(TX1, Ty1)\n",
    "plot_decision_regions(X1.as_matrix(), y1.as_matrix(), knc3)"
   ]
  },
  {
   "cell_type": "code",
   "execution_count": 28,
   "metadata": {},
   "outputs": [
    {
     "name": "stdout",
     "output_type": "stream",
     "text": [
      "0.15789473684210525\n"
     ]
    },
    {
     "name": "stderr",
     "output_type": "stream",
     "text": [
      "/home/antoni/anaconda3/lib/python3.6/site-packages/ipykernel_launcher.py:4: FutureWarning: Method .as_matrix will be removed in a future version. Use .values instead.\n",
      "  after removing the cwd from sys.path.\n"
     ]
    },
    {
     "data": {
      "text/plain": [
       "<matplotlib.axes._subplots.AxesSubplot at 0x7f74ff24bc50>"
      ]
     },
     "execution_count": 28,
     "metadata": {},
     "output_type": "execute_result"
    },
    {
     "data": {
      "image/png": "[encoded data removed]",
      "text/plain": [
       "<Figure size 432x288 with 1 Axes>"
      ]
     },
     "metadata": {},
     "output_type": "display_data"
    }
   ],
   "source": [
    "knc4 = KNeighborsClassifier(n_neighbors=50)\n",
    "print(get_mae(knc4))\n",
    "knc4.fit(TX1, Ty1)\n",
    "plot_decision_regions(X1.as_matrix(), y1.as_matrix(), knc4)"
   ]
  },
  {
   "cell_type": "code",
   "execution_count": null,
   "metadata": {},
   "outputs": [],
   "source": []
  }
 ],
 "metadata": {
  "kernelspec": {
   "display_name": "Python 3",
   "language": "python",
   "name": "python3"
  },
  "language_info": {
   "codemirror_mode": {
    "name": "ipython",
    "version": 3
   },
   "file_extension": ".py",
   "mimetype": "text/x-python",
   "name": "python",
   "nbconvert_exporter": "python",
   "pygments_lexer": "ipython3",
   "version": "3.6.5"
  }
 },
 "nbformat": 4,
 "nbformat_minor": 2
}
